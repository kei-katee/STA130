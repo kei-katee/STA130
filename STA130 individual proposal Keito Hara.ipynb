{
 "cells": [
  {
   "cell_type": "markdown",
   "id": "7719a3db",
   "metadata": {},
   "source": [
    "Proposal 1\n",
    "1. Research Question\n",
    "\n",
    "Research Question: \"What factors in social connections and lifestyle habits are associated with self-rated mental health among Canadians?\"\n",
    "\n",
    "Context: Mental health is a multifaceted outcome influenced by various lifestyle and social connection factors. This question seeks to identify significant predictors among lifestyle habits and social interactions that may be positively or negatively associated with self-rated mental health.\n",
    "\n",
    "2. Variables\n",
    "\n",
    "Dependent Variable: WELLNESS_self_rated_mental_health: The self-assessed mental health score that respondents provide.\n",
    "\n",
    "Independent Variables: LIFESTYLE_time_use_balance_sleeping: Balance in sleep time, as sleep quality and quantity are often correlated with mental health.\n",
    "\n",
    "Visualizations:\n",
    "\n",
    "Scatter plots will display each independent variable, such as the number of friends and sleep time balance, plotted against self-rated mental health to visually assess potential linear relationships. Additionally, a correlation matrix will be constructed to present the correlation coefficients among selected independent variables, ensuring that multicollinearity is minimized. This combination of visualizations will provide initial insights into individual associations and help check for redundancy among predictors, which is essential before proceeding with regression analysis.\n",
    "\n",
    "3. Proposal Plan\n",
    "\n",
    "Multiple linear regression will be employed to assess the strength and significance of each lifestyle and social connection variable's effect on self-rated mental health, with key assumptions that the relationships between the independent variables and self-rated mental health are approximately linear, that minimal multicollinearity among predictors exists (to be checked using the correlation matrix), and that the residuals of the model are approximately normally distributed; additionally, it will be beneficial to include the assumption of homoscedasticity (constant variance of errors) and to check for outliers in the analysis.\n",
    "\n",
    "4. Hypothesis and Expected Results\n",
    "\n",
    "Hypothesis: \"Higher levels of balanced sleep positively contribute to self-rated mental health.\"\n",
    "Relevance of Expected Results: If the analysis finds significant positive associations, these insights could be useful for awareness campaigns advocating for balanced sleep as elements of mental health maintenance strategies."
   ]
  },
  {
   "cell_type": "markdown",
   "id": "75f6be40",
   "metadata": {},
   "source": [
    "Proposal 2\n",
    "\n",
    "1. Research Question\n",
    "\n",
    "Research Question: \"Is there a relationship between the number of close friends and self-rated mental health among Canadians?\"\n",
    "\n",
    "Context: This question seeks to explore whether the number of close friends correlates with better self-rated mental health, providing insights into the possible mental health benefits of strong social connections.\n",
    "\n",
    "2. Variables\n",
    "\n",
    "Independent Variable: CONNECTION_social_num_close_friends_grouped (e.g., categorized by the number of close friends or social groups reported by respondents)\n",
    "\n",
    "Dependent Variable: WELLNESS_self_rated_mental_health (e.g., self-rated scores for mental health, from excellent to poor)\n",
    "\n",
    "Visualizations:\n",
    "A histogram will be used to illustrate the distribution of respondents based on the number of close friends they report, while a scatter plot will visualize the relationship between the number of close friends and self-rated mental health. This combination of visualizations will provide insights into how frequently respondents engage in close friendships and reveal potential patterns between social connections and mental health ratings.\n",
    "\n",
    "3. Proposal Plan\n",
    "\n",
    "Correlation analysis will be conducted to quantify the association between the number of close friends and self-rated mental health, followed by linear regression to determine whether the number of close friends significantly predicts mental health ratings, with key assumptions that the relationship between the variables is reasonably linear for correlation purposes and that the observations (respondents) are independent.\n",
    "\n",
    "4. Hypothesis and Expected Results\n",
    "\n",
    "Hypothesis: \"Canadians with a greater number of close friends report better self-rated mental health.\"\n",
    "Relevance of Expected Results: If this hypothesis holds true, it could support the idea that fostering close friendships contributes to improved mental health, which is useful information for mental health awareness campaigns promoting social connectedness."
   ]
  },
  {
   "cell_type": "markdown",
   "id": "f9e5ee23",
   "metadata": {},
   "source": [
    "Proposal 3 \n",
    "\n",
    "1 Research Question\n",
    "\n",
    "Does the frequency of social interactions have a positive impact on well-being? Specifically, is there a relationship between how often an individual engages socially and their overall well-being score?\n",
    "\n",
    "2 Variables and Exploratory Analysis\n",
    "\n",
    "Independent Variable: CONNECTION_social_days_friends_p7d_grouped\n",
    "\n",
    "Dependent Variable: WELLNESS_life_satisfaction\n",
    "\n",
    "Visualizations:\n",
    "I will use box plots to visualize the distribution of well-being scores across different levels of interaction frequency. This will provide initial insight into any potential differences in well-being associated with varying interaction levels.\n",
    "\n",
    "3 Planned Analysis\n",
    "\n",
    "I will use Spearman's Rank Correlation Coefficient to assess the relationship between interaction frequency (an ordinal variable) and well-being scores, as this non-parametric method effectively accommodates ordinal data and helps determine if a significant correlation exists between the two variables, while also not requiring the assumption of normality.\n",
    "\n",
    "4 Hypothesis\n",
    "I hypothesize that individuals with more frequent interactions will show higher well-being scores.\n",
    "\n",
    "Relevance: This finding could provide actionable insights for health campaigns, emphasizing the role of frequent social interaction on mental health, which aligns well with the project’s objective to highlight the impact of social connection on well-being."
   ]
  },
  {
   "cell_type": "markdown",
   "id": "c11c1218",
   "metadata": {},
   "source": [
    "I want to group with Avina Chan, Joonie Kang, Michelle Huang, and Alice Ruan."
   ]
  }
 ],
 "metadata": {
  "kernelspec": {
   "display_name": "Python 3 (ipykernel)",
   "language": "python",
   "name": "python3"
  },
  "language_info": {
   "codemirror_mode": {
    "name": "ipython",
    "version": 3
   },
   "file_extension": ".py",
   "mimetype": "text/x-python",
   "name": "python",
   "nbconvert_exporter": "python",
   "pygments_lexer": "ipython3",
   "version": "3.11.6"
  }
 },
 "nbformat": 4,
 "nbformat_minor": 5
}
