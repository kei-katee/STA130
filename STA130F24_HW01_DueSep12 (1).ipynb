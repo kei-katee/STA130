{
 "cells": [
  {
   "cell_type": "markdown",
   "id": "aaad910f",
   "metadata": {},
   "source": [
    "# STA130 Week 01 Homework \n",
    "\n",
    "Please see the course [wiki-textbook](https://github.com/pointOfive/stat130chat130/wiki) for the list of topics covered in this homework assignment, and a list of topics that might appear during ChatBot conversations which are \"out of scope\" for the purposes of this homework assignment (and hence can be safely ignored if encountered)\n"
   ]
  },
  {
   "cell_type": "markdown",
   "id": "5aede3d7",
   "metadata": {},
   "source": [
    "<details class=\"details-example\"><summary style=\"color:blue\"><u>Introduction</u></summary>\n",
    "\n",
    "### Introduction\n",
    "    \n",
    "A reasonable characterization of STA130 Homework is that it simply defines a weekly reading comprehension assignment. \n",
    "Indeed, STA130 Homework essentially boils down to completing various understanding confirmation exercises oriented around coding and writing tasks.\n",
    "However, rather than reading a textbook, STA130 Homework is based on ChatBots so students can interactively follow up to clarify questions or confusion that they may still have regarding learning objective assignments.\n",
    "\n",
    "> Communication is a fundamental skill underlying statistics and data science, so STA130 Homework based on ChatBots helps practice effective two-way communication as part of a \"realistic\" dialogue activity supporting underlying conceptual understanding building. \n",
    "\n",
    "It will likely become increasingly tempting to rely on ChatBots to \"do the work for you\". But when you find yourself frustrated with a ChatBots inability to give you the results you're looking for, this is a \"hint\" that you've become overreliant on the ChatBots. Your objective should not be to have ChatBots \"do the work for you\", but to use ChatBots to help you build your understanding so you can efficiently leverage ChatBots (and other resources) to help you work more efficiently.<br><br>\n",
    "\n",
    "</details>\n",
    "\n",
    "<details class=\"details-example\"><summary style=\"color:blue\"><u>Instructions</u></summary>\n",
    "\n",
    "### Instructions\n",
    "    \n",
    "1. Code and write all your answers (for both the \"Prelecture\" and \"Postlecture\" HW) in a python notebook (in code and markdown cells) \n",
    "    \n",
    "> It is *suggested but not mandatory* that you complete the \"Prelecture\" HW prior to the Monday LEC since (a) all HW is due at the same time; but, (b) completing some of the HW early will mean better readiness for LEC and less of a \"procrastentation cruch\" towards the end of the week...\n",
    "    \n",
    "2. Paste summaries of your ChatBot sessions (including link(s) to chat log histories if you're using ChatGPT) within your notebook\n",
    "    \n",
    "> Create summaries of your ChatBot sessions by using concluding prompts such as \"Please provide a summary of our exchanges here so I can submit them as a record of our interactions as part of a homework assignment\" or, \"Please provide me with the final working verson of the code that we created together\"\n",
    "    \n",
    "3. Save your python jupyter notebook in your own account and \"repo\" on [github.com](github.com) and submit a link to that notebook though Quercus for assignment marking<br><br>\n",
    "\n",
    "</details>\n",
    "\n",
    "<details class=\"details-example\"><summary style=\"color:blue\"><u>Prompt Engineering?</u></summary>\n",
    "\n",
    "### Prompt Engineering?    \n",
    "    \n",
    "The questions (as copy-pasted prompts) are designed to initialize appropriate ChatBot conversations which can be explored in the manner of an interactive and dynamic textbook; but, it is nonetheless **strongly recommendated** that your rephrase the questions in a way that you find natural to ensure a clear understanding of the question. Given sensible prompts the represent a question well, the two primary challenges observed to arise from ChatBots are \n",
    "\n",
    "1. conversations going beyond the intended scope of the material addressed by the question; and, \n",
    "2. unrecoverable confusion as a result of sequential layers logial inquiry that cannot be resolved. \n",
    "\n",
    "In the case of the former (1), adding constraints specifying the limits of considerations of interest tends to be helpful; whereas, the latter (2) is often the result of initial prompting that leads to poor developments in navigating the material, which are likely just best resolve by a \"hard reset\" with a new initial approach to prompting.  Indeed, this is exactly the behavior [hardcoded into copilot](https://answers.microsoft.com/en-us/bing/forum/all/is-this-even-normal/0b6dcab3-7d6c-4373-8efe-d74158af3c00)...\n",
    "\n",
    "</details>"
   ]
  },
  {
   "cell_type": "markdown",
   "id": "77293b06",
   "metadata": {},
   "source": [
    "\n",
    "### Marking Rubric (which may award partial credit) \n",
    "\n",
    "- [0.1 points]: All relevant ChatBot summaries [including link(s) to chat log histories if you're using ChatGPT] are reported within the notebook\n",
    "- [0.2 points]: Reasonable well-written general definitions for Question \"2.2\"\n",
    "- [0.3 points]: Demonstrated understanding regarding Question \"4\"\n",
    "<!-- - [0.2 points]: A sensible justification for the choice in Question \"7.4\" -->\n",
    "- [0.4 points]: Requested assessment of ChatBot versus google performance in Question \"8.3\"\n"
   ]
  },
  {
   "cell_type": "markdown",
   "id": "2f7d8d5a",
   "metadata": {},
   "source": [
    "## \"Pre-lecture\" HW [*completion prior to next LEC is suggested but not mandatory*]"
   ]
  },
  {
   "cell_type": "markdown",
   "id": "eff4111d",
   "metadata": {},
   "source": [
    "#### 1. Pick one of the datasets from the ChatBot session(s) of the **TUT demo** (or from your own ChatBot session if you wish) and use the code produced through the ChatBot interactions to import the data and confirm that the dataset has missing values<br>\n",
    "\n",
    "<details class=\"details-example\"><summary style=\"color:blue\"><u>Further Guidance</u></summary>\n",
    "\n",
    "> If your TA has not shared a relevant ChatBot session from their **TUT demo** through a piazza post and a Quercus announcement, the **TUT notebook** has links to example ChatBot sessions that you can use; or, ...\n",
    "> \n",
    "> ```python\n",
    "> # feel free to just use the following if you prefer...\n",
    "> import pandas as pd\n",
    "> url = \"https://raw.githubusercontent.com/rfordatascience/tidytuesday/master/data/2020/2020-05-05/villagers.csv\"\n",
    "> df = pd.read_csv(url)\n",
    "> df.isna().sum()\n",
    "> ```\n",
    "    \n",
    "</details>"
   ]
  },
  {
   "cell_type": "code",
   "execution_count": 6,
   "id": "0140beb1",
   "metadata": {},
   "outputs": [
    {
     "data": {
      "text/plain": [
       "row_n           0\n",
       "id              1\n",
       "name            0\n",
       "gender          0\n",
       "species         0\n",
       "birthday        0\n",
       "personality     0\n",
       "song           11\n",
       "phrase          0\n",
       "full_id         0\n",
       "url             0\n",
       "dtype: int64"
      ]
     },
     "execution_count": 6,
     "metadata": {},
     "output_type": "execute_result"
    }
   ],
   "source": [
    "import pandas as pd\n",
    "url = \"https://raw.githubusercontent.com/rfordatascience/tidytuesday/master/data/2020/2020-05-05/villagers.csv\"\n",
    "df = pd.read_csv(url)\n",
    "df.isna().sum()"
   ]
  },
  {
   "cell_type": "markdown",
   "id": "bebea424",
   "metadata": {},
   "source": [
    "#### 2. Start a new ChatBot session with an initial prompt introducing the dataset you're using and request help to determine how many columns and rows of data a `pandas` DataFrame has, and then\n",
    "\n",
    "1. use code provided in your ChatBot session to print out the number of rows and columns of the dataset; and,  \n",
    "2. write your own general definitions of the meaning of \"observations\" and \"variables\" based on asking the ChatBot to explain these terms in the context of your dataset<br>\n",
    "\n",
    "<details class=\"details-example\"><summary style=\"color:blue\"><u>Further Guidance</u></summary>\n",
    "\n",
    "> A good initial prompt to start would be be something like\n",
    "> - \"I've downloaded a dataset about characters from animal crossings (from https://raw.githubusercontent.com/rfordatascience/tidytuesday/master/data/2020/2020-05-05/villagers.csv), and I'd like to know what columns of information I have and how much data I have\"\n",
    "> \n",
    "> You can further reduce the scope of your inquiry with if needed with something like\n",
    "> - \"I've already downloaded the data and want to understand the size (or dimensions) of the dataset to start with\"\n",
    "> \n",
    "> *Some ChatBots can upload your data and do this for you; but, extended usage of this feature [likely requires a paid subscription](https://github.com/pointOfive/stat130chat130/blob/main/CHATLOG/wk1/GPT/SLS/00006_gpt3p5_LoadDataPaywall.md); and, anyway, you need to run the code yourself rather than having a ChatBot do that for you; and, for STA130 we don't want a ChatBot to just do the analysis for us; rather, we instead want ChatBots to help us understand the steps we need to take to analyze the data; so,* **you DO NOT need to purchase an upgraded version of any ChatBots**\n",
    "> - Free-tier level ChatBots like [GPT4o-mini](https://chat.openai.com/) or [Copilot](https://copilot.microsoft.com/) (which is partially based on [ChatGPT4.0](https://chat.openai.com/), and which you have access to through your UofT account) are sufficiently sophisticated and perfectly appropriate for the STA130 course\n",
    "    \n",
    "</details>"
   ]
  },
  {
   "cell_type": "code",
   "execution_count": 7,
   "id": "3c6b3787",
   "metadata": {},
   "outputs": [
    {
     "name": "stdout",
     "output_type": "stream",
     "text": [
      "Number of rows: 1\n",
      "Number of columns: 11\n"
     ]
    }
   ],
   "source": [
    "import pandas as pd\n",
    "\n",
    "# Sample dataset\n",
    "data = {\n",
    "    'row_n': [0],\n",
    "    'id': [1],\n",
    "    'name': [0],\n",
    "    'gender': [0],\n",
    "    'species': [0],\n",
    "    'birthday': [0],\n",
    "    'personality': [0],\n",
    "    'song': [11],\n",
    "    'phrase': [0],\n",
    "    'full_id': [0],\n",
    "    'url': [0]\n",
    "}\n",
    "\n",
    "df = pd.DataFrame(data)\n",
    "\n",
    "# Print number of rows and columns\n",
    "print(f\"Number of rows: {df.shape[0]}\")\n",
    "print(f\"Number of columns: {df.shape[1]}\")"
   ]
  },
  {
   "cell_type": "markdown",
   "id": "164e99f1",
   "metadata": {},
   "source": [
    "2 In the context of your dataset:\n",
    "\n",
    "- **Observations**: These represent individual entries or instances in the dataset. Each row corresponds to a single observation, capturing a specific case or entity. In this dataset, every observation appears to relate to a unique entity, possibly a character or individual, represented by various attributes such as `id`, `name`, `gender`, `species`, etc. An observation contains values for each of the variables listed in the dataset.\n",
    "\n",
    "- **Variables**: These are the different attributes or properties of each observation. In the dataset, the variables include `id`, `name`, `gender`, `species`, `birthday`, etc. Each variable represents a distinct type of information or characteristic that is measured or recorded for each observation. The values for these variables may differ across observations, giving structure to the dataset.\n",
    "\n",
    "In your dataset, each column is a variable, and each row is an observation."
   ]
  },
  {
   "cell_type": "markdown",
   "id": "2a56c467",
   "metadata": {},
   "source": [
    "#### 3. Ask the ChatBot how you can provide simple summaries of the columns in the dataset and use the suggested code to provide these summaries for your dataset<br>\n",
    "\n",
    "<details class=\"details-example\"><summary style=\"color:blue\"><u>Further Guidance</u></summary>\n",
    "\n",
    "> Use your ChatBot session to help you create working examples of using  `df.describe()` and `df['column'].value_counts()` for your dataset (although note that the `.value_counts()` method is not really meant to be used for numeric variables, so if you dataset has only numeric variables, `.value_counts()` might not be particularly informative...)\n",
    ">\n",
    "> #### ChatBot Response Scope \n",
    ">     \n",
    "> If prompts are not sufficiently focused you will likely get overly broad responses from the ChatBot, but you can always respond with subsequent refinement requests to appropriately limit the scope of the ChatBot responses to focus on addressing your actual content targets; so, \n",
    "> - an initially very general inquiry like, \"I need help analyzing my data\" will likely result in a ChatBot response suggesting a wide variety of approaches and techniques for summarizing your dataset; but, re-prompting the ChatBot with something like, \"What's the simplest form of summarization of this dataset that I could do and how do I do it in Python?\" or suggesting guidance using the specific summarization methods requested above will helpfully re-orient the ChatBot to your specific interests and needs\n",
    "> \n",
    "> #### Jupyter Notebook Hints\n",
    "> \n",
    "> Jupyter notebook printouts usaully don't show all of the data (when there's too much to show, like if `df.describe()` includes results for many columns), but the printouts just show enough of the data to give an idea of what the results are which is all we're looking for at the moment\n",
    "> \n",
    "> - Consider dividing the code that ChatBot provides you into different jupyter notebook cells so that each cell concludes with a key printed result; the last line of code in a jupyter notebook cell will automatically print out in a formatted manner, so replacing something like `print(df.head())` with `df.head()` as the last line of a cell provides a sensible way to organize your code\n",
    "> - The printout suggestions above are demonstrated in `STA130F24_CourseProject.ipynb` if looking at an example would be helpful to understand what they're getting at...\n",
    "    \n",
    "</details>"
   ]
  },
  {
   "cell_type": "code",
   "execution_count": 8,
   "id": "896b87e2",
   "metadata": {},
   "outputs": [
    {
     "name": "stdout",
     "output_type": "stream",
     "text": [
      "       row_n   id  name  gender  species  birthday  personality  song  phrase  \\\n",
      "count    1.0  1.0   1.0     1.0      1.0       1.0          1.0   1.0     1.0   \n",
      "mean     0.0  1.0   0.0     0.0      0.0       0.0          0.0  11.0     0.0   \n",
      "std      NaN  NaN   NaN     NaN      NaN       NaN          NaN   NaN     NaN   \n",
      "min      0.0  1.0   0.0     0.0      0.0       0.0          0.0  11.0     0.0   \n",
      "25%      0.0  1.0   0.0     0.0      0.0       0.0          0.0  11.0     0.0   \n",
      "50%      0.0  1.0   0.0     0.0      0.0       0.0          0.0  11.0     0.0   \n",
      "75%      0.0  1.0   0.0     0.0      0.0       0.0          0.0  11.0     0.0   \n",
      "max      0.0  1.0   0.0     0.0      0.0       0.0          0.0  11.0     0.0   \n",
      "\n",
      "       full_id  url  \n",
      "count      1.0  1.0  \n",
      "mean       0.0  0.0  \n",
      "std        NaN  NaN  \n",
      "min        0.0  0.0  \n",
      "25%        0.0  0.0  \n",
      "50%        0.0  0.0  \n",
      "75%        0.0  0.0  \n",
      "max        0.0  0.0  \n"
     ]
    }
   ],
   "source": [
    "import pandas as pd\n",
    "\n",
    "# Sample dataset\n",
    "data = {\n",
    "    'row_n': [0],\n",
    "    'id': [1],\n",
    "    'name': [0],\n",
    "    'gender': [0],\n",
    "    'species': [0],\n",
    "    'birthday': [0],\n",
    "    'personality': [0],\n",
    "    'song': [11],\n",
    "    'phrase': [0],\n",
    "    'full_id': [0],\n",
    "    'url': [0]\n",
    "}\n",
    "\n",
    "df = pd.DataFrame(data)\n",
    "\n",
    "# Use df.describe() to get summary statistics for numeric columns\n",
    "print(df.describe())"
   ]
  },
  {
   "cell_type": "code",
   "execution_count": 9,
   "id": "80418f1c",
   "metadata": {},
   "outputs": [
    {
     "name": "stdout",
     "output_type": "stream",
     "text": [
      "song\n",
      "11    1\n",
      "Name: count, dtype: int64\n"
     ]
    }
   ],
   "source": [
    "import pandas as pd\n",
    "\n",
    "# Sample dataset\n",
    "data = {\n",
    "    'row_n': [0],\n",
    "    'id': [1],\n",
    "    'name': [0],\n",
    "    'gender': [0],\n",
    "    'species': [0],\n",
    "    'birthday': [0],\n",
    "    'personality': [0],\n",
    "    'song': [11],\n",
    "    'phrase': [0],\n",
    "    'full_id': [0],\n",
    "    'url': [0]\n",
    "}\n",
    "\n",
    "df = pd.DataFrame(data)\n",
    "\n",
    "# Get the counts of unique values in the 'song' column\n",
    "print(df['song'].value_counts())\n"
   ]
  },
  {
   "cell_type": "markdown",
   "id": "b15c909b",
   "metadata": {},
   "source": [
    "#### 4. If the dataset you're using has (a) non-numeric variables and (b) missing values in numeric variables, explain (perhaps using help from a ChatBot if needed) the discrepancies between size of the dataset given by `df.shape` and what is reported by `df.describe()` with respect to (a) the number of columns it analyzes and (b) the values it reports in the \"count\" column<br>\n",
    "\n",
    "<details class=\"details-example\"><summary style=\"color:blue\"><u>Further Guidance</u></summary>\n",
    "\n",
    "> If the dataset you're using does not have (a) non-numeric variables and (b) missing values in numeric variables (e.g., the `\"villagers.csv\"` example above has only a single numeric variable `row_n` which has no missing values), instead download and use the [https://raw.githubusercontent.com/mwaskom/seaborn-data/master/titanic.csv](https://raw.githubusercontent.com/mwaskom/seaborn-data/master/titanic.csv)\" data to answer this question  \n",
    ">\n",
    "> In (a) above, the \"columns it analyzes\" refers to the columns of the output of `df.describe()` which will only include \"numeric\" columns by default, but you can can see the names of all the columns in a dataset using `df.columns`; and, make sure `df.shape` is refering to the dataset you think it is... if you've loaded a different dataset it might not have been called `df`(!)\n",
    ">\n",
    "> **If you get any errors (for example related to column names), copy and paste them as a response to the ChatBot, and see if it can help you resove them by adding the suggested adjustments to your code and then reruning all your code to see if the changes have fixed the problem (and repeat this process as needed until the problems have been resolved).**\n",
    "    \n",
    "</details>"
   ]
  },
  {
   "cell_type": "markdown",
   "id": "4c21f061",
   "metadata": {},
   "source": [
    "(a) The number of columns it analyzes\n",
    "df.shape: This function gives the total number of rows and columns in the dataset. In your case, if df.shape returns (1, 11), it means there is 1 row and 11 columns.\n",
    "df.describe(): By default, this function only analyzes numeric columns. From the column list you provided, row_n, id, song, and full_id are clearly numeric, while other columns like name, gender, species, etc., might be non-numeric (strings or categorical data). Thus, df.describe() would typically analyze fewer columns, focusing on those with numeric data types.\n",
    "If all your columns are technically stored as numeric, they would be included in df.describe(), but if some columns (like name, species, etc.) are non-numeric, df.describe() would exclude them.\n",
    "\n",
    "(b) The values reported in the \"count\" column\n",
    "df.shape tells you the total number of rows, so it would count 1 row for the entire dataset.\n",
    "df.describe()'s \"count\" column shows the number of non-missing values for each analyzed (numeric) column. If df.describe() shows a count of 1.0 for a column, it means that this column has exactly 1 non-missing value in the dataset.\n",
    "Thus, the count reflects how many non-null, non-NaN entries exist for each numeric column, not necessarily the size of the dataset or total number of entries for all columns. Non-numeric columns, or those with all missing values, won't show up in the df.describe() summary."
   ]
  },
  {
   "cell_type": "markdown",
   "id": "fa8cc949",
   "metadata": {},
   "source": [
    "#### 5. Use your ChatBot session to help understand the difference between the following and then provide your own paraphrasing summarization of that difference\n",
    "\n",
    "- an \"attribute\", such as `df.shape` which does not end with `()`\n",
    "- and a \"method\", such as `df.describe()` which does end with `()` \n",
    "   \n",
    "\n",
    "<details class=\"details-example\"><summary style=\"color:blue\"><u>Further Guidance</u></summary>\n",
    "\n",
    "> The fact that a \"method\" such as `df.describe()` ends with `()` suggests that \"methods\" are essentially something that we would call a \"function\" in programming language terminology; but, without getting too technical or \"in the weeds\", it might also be worth considering that we could also contrast what the difference is between a \"function\" in a programming language versus a \"function\" in mathematics...  \n",
    "    \n",
    "</details><br><br>\n",
    "\n",
    "***Don't forget to ask for summaries of your ChatBot session(s) and paste these into your homework notebook (including link(s) to chat log histories if you're using ChatGPT)!***<br><br>"
   ]
  },
  {
   "cell_type": "markdown",
   "id": "250d7b51",
   "metadata": {},
   "source": [
    "Difference Between \"Attribute\" and \"Method\"\n",
    "Attribute (e.g., df.shape):\n",
    "An attribute is a characteristic or property of a Python object, such as a DataFrame. It does not require parentheses because it is simply data stored within the object. It directly returns a value, like a specific piece of information. In the case of df.shape, it gives you the dimensions of the DataFrame (number of rows and columns).\n",
    "\n",
    "Method (e.g., df.describe()):\n",
    "A method is a function that is associated with an object and requires parentheses because it performs some action or computation. Methods often return a new result or modify the data. For example, df.describe() computes summary statistics for the DataFrame, such as mean, min, and max, and outputs a new DataFrame with these values.\n",
    "\n",
    "Paraphrased Summarization:\n",
    "An attribute provides stored information about an object without needing extra input or computation, while a method performs an action or computation on the object, often requiring parentheses to indicate that the function should be executed. For instance, df.shape tells you the size of the DataFrame, but df.describe() actively calculates and summarizes statistics about its data."
   ]
  },
  {
   "cell_type": "markdown",
   "id": "e14c63e0",
   "metadata": {},
   "source": [
    "Summary of Interactions\n",
    "Dataset Overview and Python Code Examples:\n",
    "\n",
    "The dataset provided includes columns like row_n, id, name, gender, species, birthday, personality, song, phrase, full_id, and url.\n",
    "Python code examples were provided to illustrate the use of df.describe() and df['column'].value_counts() to analyze the dataset.\n",
    "df.describe(): Provides summary statistics for numeric columns in the dataset.\n",
    "df['column'].value_counts(): Counts unique values in a specified column.\n",
    "Discrepancies Between df.shape and df.describe():\n",
    "\n",
    "Number of Columns:\n",
    "df.shape gives the total number of rows and columns, including all columns regardless of data type.\n",
    "df.describe() analyzes only numeric columns by default, which might lead to fewer columns being summarized.\n",
    "Values in the \"count\" Column:\n",
    "df.shape reflects the total number of rows.\n",
    "df.describe() shows the count of non-missing values for each numeric column. A count of 1.0 means there is exactly one non-null entry in those columns.\n",
    "Difference Between Attribute and Method:\n",
    "\n",
    "Attribute: Provides direct information about an object without requiring parentheses (e.g., df.shape).\n",
    "Method: Executes an action or computation on the object and requires parentheses (e.g., df.describe()).\n",
    "\n",
    "chatbox link:\n",
    "https://chatgpt.com/share/f27fd2d3-9617-42f9-b80a-b924395a9cfa"
   ]
  },
  {
   "cell_type": "markdown",
   "id": "5ea57fbf",
   "metadata": {},
   "source": [
    "<details class=\"details-example\"><summary style=\"color:blue\"><u>Continue now...?</u></summary>\n",
    "\n",
    "### Prelecture VS Postlecture HW\n",
    "    \n",
    "Feel free to work on the \"Postlecture\" HW below if you're making good progress and want to continue: in this case this is particularly reasonable as questions \"6\" and \"7\" below directly follow up and extend the \"Prelecture\" HW questions\n",
    "\n",
    "*The benefits of continue would are that (a) it might be fun to try to tackle the challenge of working through some problems without additional preparation or guidance; and (b) this is a very valable skill to be comfortable with; and (c) it will let you build experience interacting with ChatBots (and beginning to understand their strengths and limitations in this regard)... it's good to have sense of when using a ChatBot is the best way to figure something out, or if another approach (such as course provided resources or a plain old websearch for the right resourse) would be more effective*\n",
    "    \n",
    "</details>    \n"
   ]
  },
  {
   "cell_type": "markdown",
   "id": "6dbc0e0c",
   "metadata": {},
   "source": [
    "## \"Post-lecture\" HW [*submission along with \"Pre-lecture\" HW is due prior to next TUT*]"
   ]
  },
  {
   "cell_type": "markdown",
   "id": "b5b28bd0",
   "metadata": {},
   "source": [
    "#### 6. The `df.describe()` method provides the 'count', 'mean', 'std', 'min', '25%', '50%', '75%', and 'max' summary statistics for each variable it analyzes. Give the definitions (perhaps using help from the ChatBot if needed) of each of these summary statistics<br>\n",
    "\n",
    "<details class=\"details-example\"><summary style=\"color:blue\"><u>Further Guidance</u></summary>\n",
    "\n",
    "> The answers here actually make it obvious why these can only be calculated for numeric variables in a dataset, which should help explain the answer to \"4(a)\" and \"4(b)\" above\n",
    ">   \n",
    "> Also notice that when `df.describe()` is used missing values are not explicitly removed, but `df.describe()`  provides answers anyway. Is it clear what `df.describe()` does with the data in each columns it analyzes if there is missing data in the column in question? \n",
    ">\n",
    "> The next questions addresses removing rows or columns from a dataset in order to explicitly remove the presense of any missingness in the dataset (assuming we're not going to fill in any missing data values using any missing data imputation methods, which are beyond the scope of STA130); so, the behavior of `df.describe()` hints that explicitly removing missing may not always be necessary; but, the concern, though, is that not all methods may be able to handle missing data the way `df.describe()` does...\n",
    "    \n",
    "</details>"
   ]
  },
  {
   "cell_type": "markdown",
   "id": "51f8f366",
   "metadata": {},
   "source": [
    "Here are the definitions of the summary statistics provided by df.describe():\n",
    "\n",
    "Count: The number of non-null (non-missing) observations for each variable.\n",
    "Mean: The average value of a variable, calculated as the sum of all values divided by the count of values.\n",
    "Std (Standard Deviation): A measure of the spread or dispersion of the values around the mean. A higher standard deviation indicates more variation in the data.\n",
    "Min: The minimum value of the variable.\n",
    "25% (First Quartile): The value below which 25% of the observations fall. It represents the lower quartile of the data.\n",
    "50% (Median): The middle value of the data, where 50% of the observations are below and 50% are above. It is a measure of central tendency.\n",
    "75% (Third Quartile): The value below which 75% of the observations fall. It represents the upper quartile of the data.\n",
    "Max: The maximum value of the variable.\n",
    "For your data:\n",
    "\n",
    "row_n represents the count of non-null values in each column.\n",
    "The columns with 0 in the count (such as name, gender, etc.) contain no numeric data and hence are not described by df.describe() in terms of summary statistics.\n",
    "It seems like the song column has numeric data, which is why it has 11 non-null values. Other columns with 0 likely contain categorical or string data."
   ]
  },
  {
   "cell_type": "markdown",
   "id": "2a6a98fb",
   "metadata": {},
   "source": [
    "#### 7. Missing data can be considered \"across rows\" or \"down columns\".  Consider how `df.dropna()` or `del df['col']` should be applied to most efficiently use the available non-missing data in your dataset and briefly answer the following questions in your own words\n",
    "\n",
    "1. Provide an example of a \"use case\" in which using `df.dropna()` might be peferred over using `del df['col']`<br><br>\n",
    "    \n",
    "2. Provide an example of \"the opposite use case\" in which using `del df['col']` might be preferred over using `df.dropna()` <br><br>\n",
    "    \n",
    "3. Discuss why applying `del df['col']` before `df.dropna()` when both are used together could be important<br><br>\n",
    "    \n",
    "4. Remove all missing data from one of the datasets you're considering using some combination of `del df['col']` and/or `df.dropna()` and give a justification for your approach, including a \"before and after\" report of the results of your approach for your dataset.<br><br>\n",
    "\n",
    "<details class=\"details-example\"><summary style=\"color:blue\"><u>Further Guidance</u></summary>\n",
    "\n",
    "> Start a new ChatBot session **[but remember to first ask your ChatBot for summaries of your current session and perhaps coding results (so you can supply these in the homework as requested)]**, since your last ChatBot session has likely gotten quite long and has covered a lot of material at this point \n",
    "> - It can sometimes be helpful to reset ChatBot sessions to refocus them on the topics of inquiry without too much backlog history that might unintentionally bias things in certain directions and, of course, you can always re-introduce material from earlier conversations as it's relevant, such as for answering \"D\" based on reintroducing and updating code you made in a previous ChatBot session.  \n",
    "> \n",
    "> #### ChatBot Scope Guidance\n",
    "> \n",
    "> - This question is not interested in the general benefits of imputing missing data, or the general benefits of using `df.dropna()` and/or `del df['col']` to remove missing data, just how to most efficiently remove missing data if a user chooses to do so\n",
    "> \n",
    "> - More sophisticated analyses for \"filling in\" rather than removing missing data (as considered here) are possible (based on making assumptions about missing data and using specific imputation methods or models) but these are \"beyond the scope\" of this homework assignment so this topics can be safely ignored for now\n",
    "> \n",
    "> #### ChatBot Code Troubleshooting\n",
    "> \n",
    "> A key issue to be aware of when asking ChatBots for help with something is that they are not running and checking code for correctess, and they often intertwine written instructions with code instructions; so, BEFORE YOU RUN ANY CODE provided by a ChatBot, you should check the following\n",
    "> \n",
    "> 1. If this code changes an object or data, are you sure you want to run this code?\n",
    "> 2. Can you easily \"undo\" the results of running code (e.g., from a copy `df_saved=df.copy()` or reloading the data) if running the code doesn't do what you want?\n",
    "> 3. Is the state of the data what is expected by the code? Or have the objects been updated and changed so they're no longer what the code expects them to be? \n",
    "> \n",
    "> #### If you get any `Python` errors, copy and paste them into the ChatBot prompt and see if it can help you resove them; but, keep in mind the final point above becasue the ChatBot might not be aware of the state of your objects relative to the code it's producing...\n",
    "\n",
    "</details><br>"
   ]
  },
  {
   "cell_type": "markdown",
   "id": "3dd27e79",
   "metadata": {},
   "source": [
    "1 In this dataset, df.dropna() might be preferred over using del df['col'] when you want to remove only specific rows with missing data while preserving as many columns as possible.\n",
    "For exaple, if you are working with a dataset of characters, and you have a column song that has some missing values (as indicated by the 11 non-null values out of a total number of rows). If you want to keep all columns (such as id, name, gender, etc.) and remove only the rows where the song data is missing, you can use df.dropna(subset=['song'])."
   ]
  },
  {
   "cell_type": "code",
   "execution_count": 4,
   "id": "733402d9",
   "metadata": {},
   "outputs": [],
   "source": [
    "#examploe code\n",
    "df_clean = df.dropna(subset=['song'])"
   ]
  },
  {
   "cell_type": "markdown",
   "id": "2cfc0c39",
   "metadata": {},
   "source": [
    "2 Suppose the column song contains only 11 non-null values, and the dataset contains many more rows. If this column has too few useful entries to contribute to your analysis, and the majority of your analysis relies on other columns (such as id, name, gender, etc.), it would make sense to delete the entire song column rather than drop rows that might have valuable information in other columns.\n",
    "\n",
    "If you were to use df.dropna(), you would lose many rows, potentially deleting useful information from other columns like name, gender, and species. Instead, by using del df['song'], you remove just the column with a lot of missing data, keeping the rest of the dataset intact."
   ]
  },
  {
   "cell_type": "code",
   "execution_count": null,
   "id": "709b30d0",
   "metadata": {},
   "outputs": [],
   "source": [
    "# example code\n",
    "del df['song']"
   ]
  },
  {
   "cell_type": "markdown",
   "id": "6bafd3ca",
   "metadata": {},
   "source": [
    "3 To optimize data cleaning, use df.dropna() before deleting columns to maximize non-missing data retention in rows. This prevents unnecessary drop of rows based on missing data in a column that you later intend to remove, potentially causing the loss of valuable data in other columns. Using del df['col'] first ensures that only irrelevant or problematic columns are removed before tackling row-wise missing data, preventing unintended data loss, especially when working with a dataset with valuable information for analysis. For example, removing the song column first can be followed by df.dropna() to clean the dataset based on missing data in other important columns."
   ]
  },
  {
   "cell_type": "markdown",
   "id": "077a280c",
   "metadata": {},
   "source": [
    "4 Justification:\n",
    "Removing the song column first ensures that we don’t lose valuable row data just because this column has a lot of missing values.\n",
    "Dropping rows with remaining missing values ensures the dataset is clean and contains complete information in the columns that are important for the analysis.This approach retains as many rows as possible while ensuring all relevant data is non-missing.\n",
    "Before and After Report:\n",
    "Before Cleaning:\n",
    "Number of columns: 10\n",
    "Number of rows: Let's assume 100 rows (hypothetical number for explanation).\n",
    "Non-null count for song: 11 (i.e., 89 missing values in this column).\n",
    "After Cleaning:\n",
    "Before del df['song']:\n",
    "89 rows might have been removed due to missing values in song if df.dropna() was used without deleting the column first.\n",
    "After del df['song'] and df.dropna():\n",
    "Number of columns: 9 (since song is removed).\n",
    "Number of rows: Assuming other columns like id, name, gender, etc., have complete data, most or all rows are likely retained (close to 100 rows).Remaining missing data: None, as we have removed all rows with missing values after deleting the song column."
   ]
  },
  {
   "cell_type": "markdown",
   "id": "e5d258e0",
   "metadata": {},
   "source": [
    "\n",
    "\n",
    "\n",
    "\n",
    "    \n",
    "#### 8. Give brief explanations in your own words for any requested answers to the questions below\n",
    "\n",
    "> This problem will guide you through exploring how to use a ChatBot to troubleshoot code using the \"https://raw.githubusercontent.com/mwaskom/seaborn-data/master/titanic.csv\" data set \n",
    "> \n",
    "> To initialially constrain the scope of the reponses from your ChatBot, start a new ChatBot session with the following slight variation on the initial prompting approach from \"2\" above\n",
    "> - \"I am going to do some initial simple summary analyses on the titanic data set I've downloaded (https://raw.githubusercontent.com/mwaskom/seaborn-data/master/titanic.csv) which has some missing values, and I'd like to get your help understanding the code I'm using and the analysis it's performing\"\n",
    "        \n",
    "1. Use your ChatBot session to understand what `df.groupby(\"col1\")[\"col2\"].describe()` does and then demonstrate and explain this using a different example from the \"titanic\" data set other than what the ChatBot automatically provide for you\n",
    "    \n",
    "> If needed, you can help guide the ChatBot by showing it the code you've used to download the data **AND provide it with the names of the columns** using either a summary of the data with `df.describe()` or just `df.columns` as demonstrated [here](../CHATLOG/COP/00017_copilot_groupby.md)\n",
    "    \n",
    "2. Assuming you've not yet removed missing values in the manner of question \"7\" above, `df.describe()` would have different values in the `count` value for different data columns depending on the missingness present in the original data.  Why do these capture something fundamentally different from the values in the `count` that result from doing something like `df.groupby(\"col1\")[\"col2\"].describe()`?\n",
    "\n",
    "> Questions \"4\" and \"6\" above address how missing values are handled by `df.describe()` (which is reflected in the `count` output of this method); but, `count` in conjunction with `group_by` has another primary function that's more important than addressing missing values (although missing data could still play a role here).\n",
    "\n",
    "3. Intentionally introduce the following errors into your code and report your opinion as to whether it's easier to (a) work in a ChatBot session to fix the errors, or (b) use google to search for and fix errors: first share the errors you get in the ChatBot session and see if you can work with ChatBot to troubleshoot and fix the coding errors, and then see if you think a google search for the error provides the necessary toubleshooting help more quickly than ChatGPT<br><br>\n",
    "    \n",
    "    1. Forget to include `import pandas as pd` in your code \n",
    "       <br> \n",
    "       Use Kernel->Restart from the notebook menu to restart the jupyter notebook session unload imported libraries and start over so you can create this error\n",
    "       <br><br>\n",
    "       When python has an error, it sometimes provides a lot of \"stack trace\" output, but that's not usually very important for troubleshooting. For this problem for example, all you need to share with ChatGPT or search on google is `\"NameError: name 'pd' is not defined\"`<br><br>\n",
    "\n",
    "    2. Mistype \"titanic.csv\" as \"titanics.csv\"\n",
    "       <br> \n",
    "       If ChatBot troubleshooting is based on downloading the file, just replace the whole url with \"titanics.csv\" and try to troubleshoot the subsequent `FileNotFoundError: [Errno 2] No such file or directory: 'titanics.csv'` (assuming the file is indeed not present)\n",
    "       <br><br>\n",
    "       Explore introducing typos into a couple other parts of the url and note the slightly different errors this produces<br><br>\n",
    "      \n",
    "    3. Try to use a dataframe before it's been assigned into the variable\n",
    "       <br> \n",
    "       You can simulate this by just misnaming the variable. For example, if you should write `df.groupby(\"col1\")[\"col2\"].describe()` based on how you loaded the data, then instead write `DF.groupby(\"col1\")[\"col2\"].describe()`\n",
    "       <br><br>\n",
    "       Make sure you've fixed your file name so that's not the error any more<br><br>\n",
    "        \n",
    "    4. Forget one of the parentheses somewhere the code\n",
    "       <br>\n",
    "       For example, if the code should be `pd.read_csv(url)` the change it to `pd.read_csv(url`<br><br>\n",
    "        \n",
    "    5. Mistype one of the names of the chained functions with the code \n",
    "       <br>\n",
    "       For example, try something like `df.group_by(\"col1\")[\"col2\"].describe()` and `df.groupby(\"col1\")[\"col2\"].describle()`<br><br>\n",
    "        \n",
    "    6. Use a column name that's not in your data for the `groupby` and column selection \n",
    "       <br>\n",
    "       For example, try capitalizing the columns for example replacing \"sex\" with \"Sex\" in `titanic_df.groupby(\"sex\")[\"age\"].describe()`, and then instead introducing the same error of \"age\"<br><br>\n",
    "        \n",
    "    7. Forget to put the column name as a string in quotes for the `groupby` and column selection, and see if the ChatBot and google are still as helpful as they were for the previous question\n",
    "       <br>\n",
    "       For example, something like `titanic_df.groupby(sex)[\"age\"].describe()`, and then `titanic_df.groupby(\"sex\")[age].describe()`\n",
    "        \n"
   ]
  },
  {
   "cell_type": "code",
   "execution_count": 5,
   "id": "445d887f",
   "metadata": {},
   "outputs": [
    {
     "name": "stdout",
     "output_type": "stream",
     "text": [
      "   survived  pclass     sex   age  sibsp  parch     fare embarked  class  \\\n",
      "0         0       3    male  22.0      1      0   7.2500        S  Third   \n",
      "1         1       1  female  38.0      1      0  71.2833        C  First   \n",
      "2         1       3  female  26.0      0      0   7.9250        S  Third   \n",
      "3         1       1  female  35.0      1      0  53.1000        S  First   \n",
      "4         0       3    male  35.0      0      0   8.0500        S  Third   \n",
      "\n",
      "     who  adult_male deck  embark_town alive  alone  \n",
      "0    man        True  NaN  Southampton    no  False  \n",
      "1  woman       False    C    Cherbourg   yes  False  \n",
      "2  woman       False  NaN  Southampton   yes   True  \n",
      "3  woman       False    C  Southampton   yes  False  \n",
      "4    man        True  NaN  Southampton    no   True  \n",
      "         survived      pclass         age       sibsp       parch        fare\n",
      "count  891.000000  891.000000  714.000000  891.000000  891.000000  891.000000\n",
      "mean     0.383838    2.308642   29.699118    0.523008    0.381594   32.204208\n",
      "std      0.486592    0.836071   14.526497    1.102743    0.806057   49.693429\n",
      "min      0.000000    1.000000    0.420000    0.000000    0.000000    0.000000\n",
      "25%      0.000000    2.000000   20.125000    0.000000    0.000000    7.910400\n",
      "50%      0.000000    3.000000   28.000000    0.000000    0.000000   14.454200\n",
      "75%      1.000000    3.000000   38.000000    1.000000    0.000000   31.000000\n",
      "max      1.000000    3.000000   80.000000    8.000000    6.000000  512.329200\n",
      "survived         0\n",
      "pclass           0\n",
      "sex              0\n",
      "age            177\n",
      "sibsp            0\n",
      "parch            0\n",
      "fare             0\n",
      "embarked         2\n",
      "class            0\n",
      "who              0\n",
      "adult_male       0\n",
      "deck           688\n",
      "embark_town      2\n",
      "alive            0\n",
      "alone            0\n",
      "dtype: int64\n"
     ]
    }
   ],
   "source": [
    "import pandas as pd\n",
    "\n",
    "# Load the Titanic dataset\n",
    "url = \"https://raw.githubusercontent.com/mwaskom/seaborn-data/master/titanic.csv\"\n",
    "titanic = pd.read_csv(url)\n",
    "\n",
    "# Check the first few rows of the dataset\n",
    "print(titanic.head())\n",
    "\n",
    "# Get a general summary of the data\n",
    "summary = titanic.describe()\n",
    "print(summary)\n",
    "\n",
    "# Check for missing values\n",
    "missing_values = titanic.isnull().sum()\n",
    "print(missing_values)"
   ]
  },
  {
   "cell_type": "code",
   "execution_count": 7,
   "id": "3fe1c755",
   "metadata": {},
   "outputs": [
    {
     "name": "stdout",
     "output_type": "stream",
     "text": [
      "Preview of the Iris dataset:\n",
      "   sepal_length  sepal_width  petal_length  petal_width      species\n",
      "0           5.1          3.5           1.4          0.2  Iris-setosa\n",
      "1           4.9          3.0           1.4          0.2  Iris-setosa\n",
      "2           4.7          3.2           1.3          0.2  Iris-setosa\n",
      "3           4.6          3.1           1.5          0.2  Iris-setosa\n",
      "4           5.0          3.6           1.4          0.2  Iris-setosa\n",
      "\n",
      "Summary of sepal_length grouped by species:\n",
      "                 count   mean       std  min    25%  50%  75%  max\n",
      "species                                                           \n",
      "Iris-setosa       50.0  5.006  0.352490  4.3  4.800  5.0  5.2  5.8\n",
      "Iris-versicolor   50.0  5.936  0.516171  4.9  5.600  5.9  6.3  7.0\n",
      "Iris-virginica    50.0  6.588  0.635880  4.9  6.225  6.5  6.9  7.9\n"
     ]
    }
   ],
   "source": [
    "import pandas as pd\n",
    "\n",
    "# Load the dataset\n",
    "url = 'https://archive.ics.uci.edu/ml/machine-learning-databases/iris/iris.data'\n",
    "columns = ['sepal_length', 'sepal_width', 'petal_length', 'petal_width', 'species']\n",
    "df = pd.read_csv(url, header=None, names=columns)\n",
    "\n",
    "# Display the first few rows of the dataset\n",
    "print(\"Preview of the Iris dataset:\")\n",
    "print(df.head())\n",
    "\n",
    "# Example: Group by 'species' and describe the 'sepal_length' column\n",
    "sepal_length_summary_by_species = df.groupby(\"species\")[\"sepal_length\"].describe()\n",
    "\n",
    "# Print the result\n",
    "print(\"\\nSummary of sepal_length grouped by species:\")\n",
    "print(sepal_length_summary_by_species)"
   ]
  },
  {
   "cell_type": "markdown",
   "id": "40d971a1",
   "metadata": {},
   "source": [
    "1 Iris-setosa: The average sepal length is 5.006 cm with a standard deviation of 0.352 cm. The range is from 4.3 cm to 5.8 cm.\n",
    "Iris-versicolor: The average sepal length is 5.936 cm with a standard deviation of 0.516 cm. The range is from 4.9 cm to 7.0 cm.\n",
    "Iris-virginica: The average sepal length is 6.588 cm with a standard deviation of 0.636 cm. The range is from 4.9 cm to 7.9 cm."
   ]
  },
  {
   "cell_type": "markdown",
   "id": "8eca2cca",
   "metadata": {},
   "source": [
    "2 df.describe() gives an overall picture of missingness and statistics for each column.\n",
    "df.groupby(\"col1\")[\"col2\"].describe() provides more granular insights into how the data behaves within each subgroup, with missing values considered within the context of each group."
   ]
  },
  {
   "cell_type": "markdown",
   "id": "8218e8cc",
   "metadata": {},
   "source": [
    "3 ChatGPT is particularly helpful for understanding concepts, getting explanations, and receiving immediate feedback. It's great for learning and understanding the context of errors. Google Search is effective for quickly finding specific solutions and diverse perspectives on errors. It’s often better for troubleshooting complex issues or when you need to explore a range of solutions. In my opinion, for errors, the chatbox provides more accurate advice on my code than Google, which leads to faster resolution."
   ]
  },
  {
   "cell_type": "markdown",
   "id": "54d36716",
   "metadata": {},
   "source": [
    "#### 9. Have you reviewed the course [wiki-textbook](https://github.com/pointOfive/stat130chat130/wiki) and interacted with a ChatBot (or, if that wasn't sufficient, real people in the course piazza discussion board or TA office hours) to help you understand all the material in the tutorial and lecture that you didn't quite follow when you first saw it?<br>\n",
    "    \n",
    "<details class=\"details-example\"><summary style=\"color:blue\"><u>Further Guidance</u></summary>\n",
    "\n",
    "> Just answering \"Yes\" or \"No\" or \"Somewhat\" or \"Mostly\" or whatever here is fine as this question isn't a part of the rubric; but, the midterm and final exams may ask questions that are based on the tutorial and lecture materials; and, your own skills will be limited by your familiarity with these materials (which will determine your ability to actually do actual things effectively with these skills... like the course project...)\n",
    "    \n",
    "</details>\n",
    "    \n",
    "***Don't forget to ask for summaries of your ChatBot session(s) and paste these into your homework notebook (including link(s) to chat log histories if you're using ChatGPT)!***"
   ]
  },
  {
   "cell_type": "markdown",
   "id": "a937ee75",
   "metadata": {},
   "source": [
    "Summary of Interaction:\n",
    "1. Definitions of Summary Statistics from df.describe():\n",
    "\n",
    "Count: Number of non-null observations for each variable.\n",
    "Mean: Average value of a variable.\n",
    "Std (Standard Deviation): Measure of the spread of values around the mean.\n",
    "Min: Minimum value of the variable.\n",
    "25% (First Quartile): Value below which 25% of observations fall.\n",
    "50% (Median): Middle value where 50% of observations are below and 50% are above.\n",
    "75% (Third Quartile): Value below which 75% of observations fall.\n",
    "Max: Maximum value of the variable.\n",
    "2. Use Case for df.dropna():\n",
    "\n",
    "Scenario: When you want to remove rows with missing values in a specific column (e.g., song) while keeping other columns intact.\n",
    "Example: If the song column has missing data, using df.dropna(subset=['song']) keeps rows with complete data in other columns.\n",
    "3. Opposite Use Case for del df['col']:\n",
    "\n",
    "Scenario: When a column (e.g., song) has too much missing data, and removing the entire column is preferable to dropping rows.\n",
    "Example: If song has minimal non-null values, removing the column with del df['song'] avoids losing rows with useful information in other columns.\n",
    "4. Removing Missing Data - Approach and Justification:\n",
    "\n",
    "Approach:\n",
    "Remove the song column: del df['song'] to discard the column with significant missing data.\n",
    "Drop rows with remaining missing data: df.dropna() to clean the dataset.\n",
    "Justification:\n",
    "Removing the column first ensures that rows are not lost due to missing values in the song column.\n",
    "Dropping rows afterward ensures all remaining data is complete and relevant.\n",
    "Before and After Report:\n",
    "Before Cleaning: 10 columns, 100 rows (hypothetical).\n",
    "After Cleaning: 9 columns, potentially close to 100 rows if other columns are complete.\n",
    "\n",
    "Chatbox link:\n",
    "https://chatgpt.com/share/3fc0cd07-7bfc-4f22-9efb-ade256da3daa"
   ]
  },
  {
   "cell_type": "markdown",
   "id": "c4937dbc",
   "metadata": {},
   "source": [
    "Summary of Interactions (For question9)\n",
    "1. df.groupby(\"col1\")[\"col2\"].describe()\n",
    "Functionality: This code groups the DataFrame df by the values in \"col1\" and then provides descriptive statistics for the \"col2\" column within each group.\n",
    "Output: For each group, it shows the count, mean, standard deviation, min, 25th percentile, median (50th percentile), 75th percentile, and max values of \"col2\".\n",
    "2. Differences in df.describe() vs. df.groupby(\"col1\")[\"col2\"].describe()\n",
    "df.describe(): Provides summary statistics for each column in the entire DataFrame, with the count reflecting non-missing values in each column.\n",
    "df.groupby(\"col1\")[\"col2\"].describe(): Provides descriptive statistics for \"col2\" within each group defined by \"col1\", with counts reflecting non-missing values within each specific group.\n",
    "3. Handling Missing Values\n",
    "In df.describe(), the count reflects non-missing values across the entire column.\n",
    "In df.groupby(\"col1\")[\"col2\"].describe(), the count reflects non-missing values within each subgroup defined by \"col1\".\n",
    "4. Common Errors and Their Handling\n",
    "Typo in Filename: If the filename in pd.read_csv() is incorrect, such as \"titanics.csv\" instead of \"titanic.csv\", it results in a FileNotFoundError.\n",
    "Typo in Method Name: Using a non-existent method like group_by instead of groupby or a typo in describe() like describle leads to an AttributeError.\n",
    "Column Name Errors:\n",
    "Non-existent Column: Grouping or selecting by a non-existent column name (e.g., \"Sex\" instead of \"sex\", or \"Age\" instead of \"age\") results in a KeyError.\n",
    "Missing Quotes: Forgetting quotes around column names (e.g., df.groupby(sex)) results in a NameError because Python treats the column names as undefined variables.\n",
    "\n",
    "Chatbox link:\n",
    "https://chatgpt.com/share/be4636a3-3e71-406b-ba85-9acc52548d42"
   ]
  },
  {
   "cell_type": "markdown",
   "id": "8ce11ef1",
   "metadata": {},
   "source": [
    "# Recommended Additional Useful Activities [Optional]\n",
    "\n",
    "The \"Ethical Profesionalism Considerations\" and \"Current Course Project Capability Level\" sections below **are not a part of the required homework assignment**; rather, they are regular weekly guides covering (a) relevant considerations regarding professional and ethical conduct, and (b) the analysis steps for the STA130 course project that are feasible at the current stage of the course<br><br>\n",
    "\n",
    "<details class=\"details-example\"><summary style=\"color:blue\"><u>Ethical Professionalism Considerations</u></summary>\n",
    "\n",
    "## Ethical Professionalism Considerations\n",
    "\n",
    "> If the observed data is \"no events occured\" does this mean the data is \"missing\" and [should be ignored](https://priceonomics.com/the-space-shuttle-challenger-explosion-and-the-o)?\n",
    "> \n",
    "> - NASA: \\<determines temperature doesn't affects \"o-ring\" by subseting data to just \"o-ring\" incidents\\>\n",
    "> - Also NASA: \\<launches the shuttle on a cold day\\>\n",
    "\n",
    "|No apparent \"o-ring\" failure and temperature relationship|Apparent between \"o-ring\" failure and temperature relationship|\n",
    "|:-|:-|\n",
    "if you just look at \"o-ring\" failure event data|if you instead look at ALL the data as you should|\n",
    "|![](https://etzq49yfnmd.exactdn.com/wp-content/uploads/2022/03/image06-14.png)|![](https://etzq49yfnmd.exactdn.com/wp-content/uploads/2022/03/image02-33.png)|\n",
    "|![](https://upload.wikimedia.org/wikipedia/commons/8/8b/Shuttle_Challenger_explosion.gif?20190203170223)|![](https://i.makeagif.com/media/10-04-2014/nT57xW.gif)|\n",
    "\n",
    "<br>\n",
    "    \n",
    "</details>    \n",
    "\n",
    "<details class=\"details-example\"><summary style=\"color:blue\"><u>Current Course Project Capability Level</u></summary>\n",
    "\n",
    "## Current Course Project Capability Level\n",
    "\n",
    "> The data we'll use for the STA130 course project is based on the [Canadian Social Connection Survey](https://casch.org/cscs). Please see the [data use agreement](https://static1.squarespace.com/static/60283c2e174c122f8ebe0f39/t/6239c284d610f76fed5a2e69/1647952517436/Data+Use+Agreement+for+the+Canadian+Social+Connection+Survey.pdf) regarding the appropriate and ethical professional use of this data (available at the bottom of the [CSCS](https://casch.org/cscs) webpage).\n",
    "> \n",
    "> 1. Have a very quick look at the list of available variables available using the [link](https://drive.google.com/file/d/1ISVymGn-WR1lcRs4psIym2N3or5onNBi/view) (again at the bottom of the [CSCS](https://casch.org/cscs) webpage); then, \n",
    "> 2. examine the code in the first thirteen code cells of [STA130F24_CourseProject.ipynb](https://github.com/pointOfive/stat130chat130/blob/main/CP/STA130F24_CourseProject.ipynb) to get an initital understanding of how we might subset to different studies included in the [data](https://drive.google.com/file/d/1mbUQlMTrNYA7Ly5eImVRBn16Ehy9Lggo/view) (again accessible at the bottom of the [CSCS](https://casch.org/cscs) webpage); then,     \n",
    "> 3. review the fourteenth and fifteenth cells (with the comments \"Here's a high level summary of the data\" and \"And here are some explanations about the columns in the data\") a little more closely to get a better sense of which columns seem to be the most interesting and whether or not they seem to have a lot of missing data\n",
    "    \n",
    "</details>        "
   ]
  },
  {
   "cell_type": "markdown",
   "id": "98ca7d22",
   "metadata": {},
   "source": [
    "### Afterward\n",
    "\n",
    "Here are few ideas of some other kinds of interactions you might consider exploring with a ChatBot...\n",
    "\n",
    "> While these are likely to be extremely practically valuable, they are not a part of the homework assignment, so do not include anything related to these in your homework submission\n",
    "\n",
    "- With respect to improving ones ability in statistics, coding, communication, and other key data science skills\n",
    "    - what is the ChatBots perception its own capabilities and uses as an AI-driven assistance tool \n",
    "    - and does ChatBots assessment of itself influence or agree with your own evalution of the ChatBot? \n",
    "\n",
    "- ChatBots can introduce and explain the \"World War 2 planes\" problem and the \"Monte Hall\" problem... \n",
    "    - how well does do they seem to do and introducing and explaining other \"unintuitive surprising statistics paradoxes\"?\n",
    "\n",
    "- If you consider the process of writing about why you chose to take this course, and the skills you were hoping to build through this course with respect to your current ideas about what possible careers \n",
    "    - and how do you think the exercise would be different if you framed it as a dialogue with a ChatBot\n",
    "    - and do you think the difference could be positive and productive, or potentially biasing and distracting?\n",
    "    \n",
    "- ChatBots sometimes immediately responds in simple helpful ways, but other times it gives a lot of extraneous information that can be overwheling... are you able to prompt and interact with ChatBots in manner that keeps its reponses helpful and focused on what you're interested in? \n",
    "\n",
    "- ChatBots tends to respond in a fairly empathetic and supportive tone...\n",
    "    - do you find it helpful to discuss concerns you might have about succeeding in the course (or entering university more generally) with a ChatBot?\n",
    "    \n",
    "- For what purposes and in what contexts do you think a ChatBot could provide suggestions or feedback about your experiences that might be useful? \n"
   ]
  }
 ],
 "metadata": {
  "kernelspec": {
   "display_name": "Python 3 (ipykernel)",
   "language": "python",
   "name": "python3"
  },
  "language_info": {
   "codemirror_mode": {
    "name": "ipython",
    "version": 3
   },
   "file_extension": ".py",
   "mimetype": "text/x-python",
   "name": "python",
   "nbconvert_exporter": "python",
   "pygments_lexer": "ipython3",
   "version": "3.11.6"
  }
 },
 "nbformat": 4,
 "nbformat_minor": 5
}
